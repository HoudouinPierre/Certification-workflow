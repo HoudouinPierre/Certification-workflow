{
 "cells": [
  {
   "cell_type": "code",
   "execution_count": 1,
   "id": "51936bf2",
   "metadata": {},
   "outputs": [],
   "source": [
    "import sys \n",
    "sys.path.append(\"C:/Users/houdouinpie/PycharmProjects/1 - Proper functioning probability v2/Code/Input/\")\n",
    "sys.path.append(\"C:/Users/houdouinpie/PycharmProjects/1 - Proper functioning probability v2/Code/Certification workflow/\")\n",
    "from information_structures import SimpleInformationStructure\n",
    "from properly_scaled_scenarios import SimpleProperlyScaledScenario\n",
    "from samplers import SimpleSampler"
   ]
  },
  {
   "cell_type": "markdown",
   "id": "1e2aea5c",
   "metadata": {},
   "source": [
    "# Parameters"
   ]
  },
  {
   "cell_type": "code",
   "execution_count": 2,
   "id": "af1043ec",
   "metadata": {},
   "outputs": [],
   "source": [
    "# Simple information structure\n",
    "dimension                             = 5\n",
    "information_structure_bound           = 1\n",
    "\n",
    "# Properly scaled scenarios\n",
    "properly_scaled_scenarios_max_L2_norm = 2"
   ]
  },
  {
   "cell_type": "code",
   "execution_count": 3,
   "id": "c4157441",
   "metadata": {},
   "outputs": [],
   "source": [
    "information_structure    = SimpleInformationStructure(dimension, information_structure_bound)\n",
    "properly_scaled_scenario = SimpleProperlyScaledScenario(properly_scaled_scenarios_max_L2_norm)"
   ]
  },
  {
   "cell_type": "markdown",
   "id": "e1c8475c",
   "metadata": {},
   "source": [
    "# 1 - Simple sampler"
   ]
  },
  {
   "cell_type": "code",
   "execution_count": 4,
   "id": "5f6bfc0e",
   "metadata": {},
   "outputs": [
    {
     "name": "stdout",
     "output_type": "stream",
     "text": [
      "Scenario 1/10: [0.11521513 0.00135892 0.97756192 0.90303219 0.95809773]     <class 'numpy.ndarray'>\n",
      "Scenario 2/10: [0.47419767 0.44053813 0.02863636 0.36757597 0.00547805]     <class 'numpy.ndarray'>\n",
      "Scenario 3/10: [0.25329232 0.89437908 0.48023228 0.3036695  0.40914169]     <class 'numpy.ndarray'>\n",
      "Scenario 4/10: [0.2226257  0.04933277 0.01227376 0.62601194 0.59285278]     <class 'numpy.ndarray'>\n",
      "Scenario 5/10: [0.65366472 0.72715178 0.89891876 0.45140642 0.05525161]     <class 'numpy.ndarray'>\n",
      "Scenario 6/10: [0.98923854 0.62081684 0.76834311 0.46233659 0.75508246]     <class 'numpy.ndarray'>\n",
      "Scenario 7/10: [0.40322855 0.81247481 0.2006169  0.708595   0.84454044]     <class 'numpy.ndarray'>\n",
      "Scenario 8/10: [0.8076888  0.9909248  0.41679664 0.00951603 0.23647255]     <class 'numpy.ndarray'>\n",
      "Scenario 9/10: [0.20058454 0.07208656 0.85468632 0.64863563 0.46650661]     <class 'numpy.ndarray'>\n",
      "Scenario 10/10: [0.36702798 0.9111792  0.21698941 0.42038673 0.42335196]     <class 'numpy.ndarray'>\n"
     ]
    }
   ],
   "source": [
    "simple_sampler = SimpleSampler(information_structure, properly_scaled_scenario)\n",
    "N = 10\n",
    "for i in range(N):\n",
    "    scenario = simple_sampler.draw_scenario()\n",
    "    print(\"Scenario %d/%d: \" % (i + 1, N) + str(scenario) + \"     \" + str(type(scenario)))"
   ]
  },
  {
   "cell_type": "code",
   "execution_count": 5,
   "id": "628694f9",
   "metadata": {},
   "outputs": [
    {
     "name": "stdout",
     "output_type": "stream",
     "text": [
      "Properly scaled scenario 1/10: [0.20324658 0.74877315 0.4604253  0.37931058 0.93009273]     <class 'numpy.ndarray'>\n",
      "Properly scaled scenario 2/10: [0.86140846 0.26223475 0.58825404 0.21444152 0.8684783 ]     <class 'numpy.ndarray'>\n",
      "Properly scaled scenario 3/10: [0.37234088 0.30656461 0.12586036 0.06869503 0.43494409]     <class 'numpy.ndarray'>\n",
      "Properly scaled scenario 4/10: [0.79315901 0.69706727 0.68642244 0.17591584 0.05287601]     <class 'numpy.ndarray'>\n",
      "Properly scaled scenario 5/10: [0.74413109 0.12969718 0.22167381 0.61025114 0.88112468]     <class 'numpy.ndarray'>\n",
      "Properly scaled scenario 6/10: [0.01737986 0.73521132 0.17248263 0.7429026  0.50682063]     <class 'numpy.ndarray'>\n",
      "Properly scaled scenario 7/10: [0.67878672 0.04599907 0.3213868  0.11010425 0.92908926]     <class 'numpy.ndarray'>\n",
      "Properly scaled scenario 8/10: [0.97761808 0.46454563 0.23857866 0.55409415 0.38227183]     <class 'numpy.ndarray'>\n",
      "Properly scaled scenario 9/10: [0.74335367 0.39025931 0.13282407 0.60667472 0.0727498 ]     <class 'numpy.ndarray'>\n",
      "Properly scaled scenario 10/10: [0.83707019 0.89250509 0.35916478 0.38953671 0.34362875]     <class 'numpy.ndarray'>\n"
     ]
    }
   ],
   "source": [
    "simple_sampler = SimpleSampler(information_structure, properly_scaled_scenario)\n",
    "N = 10\n",
    "for i in range(N):\n",
    "    properly_scaled_scenario = simple_sampler.draw_properly_scaled_scenario()\n",
    "    print(\"Properly scaled scenario %d/%d: \" % (i + 1, N) + str(properly_scaled_scenario) + \"     \" + str(type(properly_scaled_scenario)))"
   ]
  },
  {
   "cell_type": "code",
   "execution_count": null,
   "id": "a37e9c41",
   "metadata": {},
   "outputs": [],
   "source": []
  }
 ],
 "metadata": {
  "kernelspec": {
   "display_name": "Python 3 (ipykernel)",
   "language": "python",
   "name": "python3"
  },
  "language_info": {
   "codemirror_mode": {
    "name": "ipython",
    "version": 3
   },
   "file_extension": ".py",
   "mimetype": "text/x-python",
   "name": "python",
   "nbconvert_exporter": "python",
   "pygments_lexer": "ipython3",
   "version": "3.9.7"
  }
 },
 "nbformat": 4,
 "nbformat_minor": 5
}
