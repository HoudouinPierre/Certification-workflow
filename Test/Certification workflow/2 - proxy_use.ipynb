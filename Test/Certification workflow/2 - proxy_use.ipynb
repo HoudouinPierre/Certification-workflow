{
 "cells": [
  {
   "cell_type": "code",
   "execution_count": 1,
   "id": "51936bf2",
   "metadata": {},
   "outputs": [],
   "source": [
    "import sys \n",
    "sys.path.append(\"C:/Users/houdouinpie/PycharmProjects/1 - Proper functioning probability v2/Code/Certification workflow/\")\n",
    "from proxy_uses import confidence_threshold_proxy_use"
   ]
  },
  {
   "cell_type": "markdown",
   "id": "1e2aea5c",
   "metadata": {},
   "source": [
    "# Parameters"
   ]
  },
  {
   "cell_type": "code",
   "execution_count": 2,
   "id": "af1043ec",
   "metadata": {},
   "outputs": [],
   "source": [
    "# Confidence interval proxy use\n",
    "proxy_upper_confidence_threshold = 0.98\n",
    "proxy_lower_confidence_threshold = 0.02"
   ]
  },
  {
   "cell_type": "markdown",
   "id": "ef414524",
   "metadata": {},
   "source": [
    "# 1 - Confidence interval proxy use"
   ]
  },
  {
   "cell_type": "code",
   "execution_count": 3,
   "id": "c4157441",
   "metadata": {},
   "outputs": [],
   "source": [
    "def proxy_use(proxy_congestion_probability):\n",
    "    return confidence_threshold_proxy_use(proxy_congestion_probability, proxy_upper_confidence_threshold, proxy_lower_confidence_threshold)"
   ]
  },
  {
   "cell_type": "code",
   "execution_count": 4,
   "id": "003aec1b",
   "metadata": {},
   "outputs": [
    {
     "name": "stdout",
     "output_type": "stream",
     "text": [
      "Proxy congestion probability : 0.01 - Proxy can be used : True\n",
      "Proxy congestion probability : 0.05 - Proxy can be used : False\n",
      "Proxy congestion probability : 0.95 - Proxy can be used : False\n",
      "Proxy congestion probability : 0.99 - Proxy can be used : True\n"
     ]
    }
   ],
   "source": [
    "for proxy_congestion_probability in [0.01, 0.05, 0.95, 0.99]:\n",
    "    proxy_can_be_used = proxy_use(proxy_congestion_probability)\n",
    "    print(\"Proxy congestion probability : \" + str(proxy_congestion_probability) + \" - Proxy can be used : \" + str(proxy_can_be_used))"
   ]
  },
  {
   "cell_type": "code",
   "execution_count": null,
   "id": "cc2b8eba",
   "metadata": {},
   "outputs": [],
   "source": []
  }
 ],
 "metadata": {
  "kernelspec": {
   "display_name": "Python 3 (ipykernel)",
   "language": "python",
   "name": "python3"
  },
  "language_info": {
   "codemirror_mode": {
    "name": "ipython",
    "version": 3
   },
   "file_extension": ".py",
   "mimetype": "text/x-python",
   "name": "python",
   "nbconvert_exporter": "python",
   "pygments_lexer": "ipython3",
   "version": "3.9.7"
  }
 },
 "nbformat": 4,
 "nbformat_minor": 5
}
