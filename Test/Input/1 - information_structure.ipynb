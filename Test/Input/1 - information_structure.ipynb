{
 "cells": [
  {
   "cell_type": "code",
   "execution_count": 1,
   "id": "51936bf2",
   "metadata": {},
   "outputs": [],
   "source": [
    "import sys \n",
    "sys.path.append(\"C:/Users/houdouinpie/PycharmProjects/1 - Proper functioning probability v2/Code/Input/\")\n",
    "from information_structures import SimpleInformationStructure"
   ]
  },
  {
   "cell_type": "markdown",
   "id": "1e2aea5c",
   "metadata": {},
   "source": [
    "# Parameters"
   ]
  },
  {
   "cell_type": "code",
   "execution_count": 2,
   "id": "af1043ec",
   "metadata": {},
   "outputs": [],
   "source": [
    "# Simple information structure\n",
    "dimension                   = 5\n",
    "information_structure_bound = 1"
   ]
  },
  {
   "cell_type": "markdown",
   "id": "e1c8475c",
   "metadata": {},
   "source": [
    "# 1 - Simple information structure"
   ]
  },
  {
   "cell_type": "code",
   "execution_count": 3,
   "id": "5f6bfc0e",
   "metadata": {},
   "outputs": [
    {
     "name": "stdout",
     "output_type": "stream",
     "text": [
      "Scenario 1/10: [0.73627941 0.86700988 0.92632004 0.01404327 0.28130768]     <class 'numpy.ndarray'>\n",
      "Scenario 2/10: [0.7574549  0.65430869 0.04093328 0.48465137 0.66119297]     <class 'numpy.ndarray'>\n",
      "Scenario 3/10: [0.44812373 0.054325   0.07777516 0.65713452 0.81564266]     <class 'numpy.ndarray'>\n",
      "Scenario 4/10: [0.11921695 0.20340137 0.62460838 0.03898051 0.86511623]     <class 'numpy.ndarray'>\n",
      "Scenario 5/10: [0.9785977  0.4344452  0.95667658 0.39597292 0.15473477]     <class 'numpy.ndarray'>\n",
      "Scenario 6/10: [0.60266622 0.73767055 0.26406198 0.92028738 0.90370525]     <class 'numpy.ndarray'>\n",
      "Scenario 7/10: [0.79542238 0.53895519 0.31791954 0.81682532 0.51061025]     <class 'numpy.ndarray'>\n",
      "Scenario 8/10: [0.81439836 0.57890927 0.20125081 0.54528445 0.00695593]     <class 'numpy.ndarray'>\n",
      "Scenario 9/10: [0.04711351 0.21152596 0.45955335 0.37395684 0.15351108]     <class 'numpy.ndarray'>\n",
      "Scenario 10/10: [0.11368554 0.57078808 0.18447049 0.88138026 0.99124002]     <class 'numpy.ndarray'>\n"
     ]
    }
   ],
   "source": [
    "simple_information_structure = SimpleInformationStructure(dimension, information_structure_bound)\n",
    "N = 10\n",
    "for i in range(N):\n",
    "    scenario = simple_information_structure.draw_scenario()\n",
    "    print(\"Scenario %d/%d: \" % (i + 1, N) + str(scenario) + \"     \" + str(type(scenario)))"
   ]
  },
  {
   "cell_type": "code",
   "execution_count": null,
   "id": "395c3882",
   "metadata": {},
   "outputs": [],
   "source": []
  }
 ],
 "metadata": {
  "kernelspec": {
   "display_name": "Python 3 (ipykernel)",
   "language": "python",
   "name": "python3"
  },
  "language_info": {
   "codemirror_mode": {
    "name": "ipython",
    "version": 3
   },
   "file_extension": ".py",
   "mimetype": "text/x-python",
   "name": "python",
   "nbconvert_exporter": "python",
   "pygments_lexer": "ipython3",
   "version": "3.9.7"
  }
 },
 "nbformat": 4,
 "nbformat_minor": 5
}
