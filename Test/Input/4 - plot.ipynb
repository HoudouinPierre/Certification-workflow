{
 "cells": [
  {
   "cell_type": "code",
   "execution_count": 1,
   "id": "51936bf2",
   "metadata": {},
   "outputs": [],
   "source": [
    "import sys \n",
    "sys.path.append(\"C:/Users/houdouinpie/PycharmProjects/1 - Proper functioning probability v2/Code/Input/\")\n",
    "sys.path.append(\"C:/Users/houdouinpie/PycharmProjects/1 - Proper functioning probability v2/Code/Certification workflow/\")\n",
    "from information_structures import SimpleInformationStructure\n",
    "from properly_scaled_scenarios import SimpleProperlyScaledScenario\n",
    "from samplers import SimpleSampler\n",
    "from black_box_functions import SimpleBlackBoxFunction\n",
    "from plots import PlotSimpleFakeFunction"
   ]
  },
  {
   "cell_type": "markdown",
   "id": "1e2aea5c",
   "metadata": {},
   "source": [
    "# Parameters"
   ]
  },
  {
   "cell_type": "code",
   "execution_count": 2,
   "id": "af1043ec",
   "metadata": {},
   "outputs": [],
   "source": [
    "# Simple information structure\n",
    "dimension                             = 5\n",
    "information_structure_bound           = 1\n",
    "\n",
    "# Properly scaled scenarios\n",
    "properly_scaled_scenarios_max_L2_norm = 2\n",
    "\n",
    "# Black-box function\n",
    "black_box_function_name               = \"Linear black-box function\"\n",
    "return_max                            = True\n",
    "normalization_quantile_level          = 0.9\n",
    "N_empirical_distribution              = 100000\n",
    "verbose                               = True"
   ]
  },
  {
   "cell_type": "code",
   "execution_count": 3,
   "id": "df9f945f",
   "metadata": {},
   "outputs": [],
   "source": [
    "information_structure     = SimpleInformationStructure(dimension, information_structure_bound)\n",
    "properly_scaled_scenario  = SimpleProperlyScaledScenario(properly_scaled_scenarios_max_L2_norm)\n",
    "sampler                   = SimpleSampler(information_structure, properly_scaled_scenario)\n",
    "simple_black_box_function = SimpleBlackBoxFunction(black_box_function_name, return_max, sampler, normalization_quantile_level, N_empirical_distribution, verbose)"
   ]
  },
  {
   "cell_type": "markdown",
   "id": "e1c8475c",
   "metadata": {},
   "source": [
    "# 1 - Empirical distribution plot"
   ]
  },
  {
   "cell_type": "code",
   "execution_count": 4,
   "id": "dc54dda9",
   "metadata": {},
   "outputs": [
    {
     "name": "stdout",
     "output_type": "stream",
     "text": [
      "Unormalized max empirical distribution computation : 0%\n",
      "Unormalized max empirical distribution computation : 1%\n",
      "Unormalized max empirical distribution computation : 2%\n",
      "Unormalized max empirical distribution computation : 3%\n",
      "Unormalized max empirical distribution computation : 4%\n",
      "Unormalized max empirical distribution computation : 5%\n",
      "Unormalized max empirical distribution computation : 6%\n",
      "Unormalized max empirical distribution computation : 7%\n",
      "Unormalized max empirical distribution computation : 8%\n",
      "Unormalized max empirical distribution computation : 9%\n",
      "Unormalized max empirical distribution computation : 10%\n",
      "Unormalized max empirical distribution computation : 11%\n",
      "Unormalized max empirical distribution computation : 12%\n",
      "Unormalized max empirical distribution computation : 13%\n",
      "Unormalized max empirical distribution computation : 14%\n",
      "Unormalized max empirical distribution computation : 15%\n",
      "Unormalized max empirical distribution computation : 16%\n",
      "Unormalized max empirical distribution computation : 17%\n",
      "Unormalized max empirical distribution computation : 18%\n",
      "Unormalized max empirical distribution computation : 19%\n",
      "Unormalized max empirical distribution computation : 20%\n",
      "Unormalized max empirical distribution computation : 21%\n",
      "Unormalized max empirical distribution computation : 22%\n",
      "Unormalized max empirical distribution computation : 23%\n",
      "Unormalized max empirical distribution computation : 24%\n",
      "Unormalized max empirical distribution computation : 25%\n",
      "Unormalized max empirical distribution computation : 26%\n",
      "Unormalized max empirical distribution computation : 27%\n",
      "Unormalized max empirical distribution computation : 28%\n",
      "Unormalized max empirical distribution computation : 29%\n",
      "Unormalized max empirical distribution computation : 30%\n",
      "Unormalized max empirical distribution computation : 31%\n",
      "Unormalized max empirical distribution computation : 32%\n",
      "Unormalized max empirical distribution computation : 33%\n",
      "Unormalized max empirical distribution computation : 34%\n",
      "Unormalized max empirical distribution computation : 35%\n",
      "Unormalized max empirical distribution computation : 36%\n",
      "Unormalized max empirical distribution computation : 37%\n",
      "Unormalized max empirical distribution computation : 38%\n",
      "Unormalized max empirical distribution computation : 39%\n",
      "Unormalized max empirical distribution computation : 40%\n",
      "Unormalized max empirical distribution computation : 41%\n",
      "Unormalized max empirical distribution computation : 42%\n",
      "Unormalized max empirical distribution computation : 43%\n",
      "Unormalized max empirical distribution computation : 44%\n",
      "Unormalized max empirical distribution computation : 45%\n",
      "Unormalized max empirical distribution computation : 46%\n",
      "Unormalized max empirical distribution computation : 47%\n",
      "Unormalized max empirical distribution computation : 48%\n",
      "Unormalized max empirical distribution computation : 49%\n",
      "Unormalized max empirical distribution computation : 50%\n",
      "Unormalized max empirical distribution computation : 51%\n",
      "Unormalized max empirical distribution computation : 52%\n",
      "Unormalized max empirical distribution computation : 53%\n",
      "Unormalized max empirical distribution computation : 54%\n",
      "Unormalized max empirical distribution computation : 55%\n",
      "Unormalized max empirical distribution computation : 56%\n",
      "Unormalized max empirical distribution computation : 57%\n",
      "Unormalized max empirical distribution computation : 58%\n",
      "Unormalized max empirical distribution computation : 59%\n",
      "Unormalized max empirical distribution computation : 60%\n",
      "Unormalized max empirical distribution computation : 61%\n",
      "Unormalized max empirical distribution computation : 62%\n",
      "Unormalized max empirical distribution computation : 63%\n",
      "Unormalized max empirical distribution computation : 64%\n",
      "Unormalized max empirical distribution computation : 65%\n",
      "Unormalized max empirical distribution computation : 66%\n",
      "Unormalized max empirical distribution computation : 67%\n",
      "Unormalized max empirical distribution computation : 68%\n",
      "Unormalized max empirical distribution computation : 69%\n",
      "Unormalized max empirical distribution computation : 70%\n",
      "Unormalized max empirical distribution computation : 71%\n",
      "Unormalized max empirical distribution computation : 72%\n",
      "Unormalized max empirical distribution computation : 73%\n",
      "Unormalized max empirical distribution computation : 74%\n",
      "Unormalized max empirical distribution computation : 75%\n",
      "Unormalized max empirical distribution computation : 76%\n",
      "Unormalized max empirical distribution computation : 77%\n",
      "Unormalized max empirical distribution computation : 78%\n",
      "Unormalized max empirical distribution computation : 79%\n",
      "Unormalized max empirical distribution computation : 80%\n",
      "Unormalized max empirical distribution computation : 81%\n",
      "Unormalized max empirical distribution computation : 82%\n",
      "Unormalized max empirical distribution computation : 83%\n",
      "Unormalized max empirical distribution computation : 84%\n",
      "Unormalized max empirical distribution computation : 85%\n",
      "Unormalized max empirical distribution computation : 86%\n",
      "Unormalized max empirical distribution computation : 87%\n",
      "Unormalized max empirical distribution computation : 88%\n",
      "Unormalized max empirical distribution computation : 89%\n",
      "Unormalized max empirical distribution computation : 90%\n",
      "Unormalized max empirical distribution computation : 91%\n",
      "Unormalized max empirical distribution computation : 92%\n",
      "Unormalized max empirical distribution computation : 93%\n",
      "Unormalized max empirical distribution computation : 94%\n",
      "Unormalized max empirical distribution computation : 95%\n",
      "Unormalized max empirical distribution computation : 96%\n",
      "Unormalized max empirical distribution computation : 97%\n",
      "Unormalized max empirical distribution computation : 98%\n",
      "Unormalized max empirical distribution computation : 99%\n"
     ]
    }
   ],
   "source": [
    "plot_simple_fake_function = PlotSimpleFakeFunction(simple_black_box_function)\n",
    "plot_simple_fake_function.prepare_plots()"
   ]
  },
  {
   "cell_type": "markdown",
   "id": "c44ca9a6",
   "metadata": {},
   "source": [
    "### 1.1 - Matplotlib"
   ]
  },
  {
   "cell_type": "code",
   "execution_count": 5,
   "id": "1f5c5f91",
   "metadata": {},
   "outputs": [
    {
     "data": {
      "image/png": "[encoded data removed]",
      "text/plain": [
       "<Figure size 1440x936 with 1 Axes>"
      ]
     },
     "metadata": {
      "needs_background": "light"
     },
     "output_type": "display_data"
    }
   ],
   "source": [
    "plot_simple_fake_function.matplotlib_plot_empirical_distribution()"
   ]
  },
  {
   "cell_type": "markdown",
   "id": "7a45671e",
   "metadata": {},
   "source": [
    "### 1.2- Plotly"
   ]
  },
  {
   "cell_type": "code",
   "execution_count": null,
   "id": "d7af8cc5",
   "metadata": {},
   "outputs": [],
   "source": []
  }
 ],
 "metadata": {
  "kernelspec": {
   "display_name": "Python 3 (ipykernel)",
   "language": "python",
   "name": "python3"
  },
  "language_info": {
   "codemirror_mode": {
    "name": "ipython",
    "version": 3
   },
   "file_extension": ".py",
   "mimetype": "text/x-python",
   "name": "python",
   "nbconvert_exporter": "python",
   "pygments_lexer": "ipython3",
   "version": "3.9.7"
  }
 },
 "nbformat": 4,
 "nbformat_minor": 5
}
