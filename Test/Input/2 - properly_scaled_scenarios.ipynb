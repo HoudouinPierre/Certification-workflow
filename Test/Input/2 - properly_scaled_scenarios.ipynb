{
 "cells": [
  {
   "cell_type": "code",
   "execution_count": 1,
   "id": "51936bf2",
   "metadata": {},
   "outputs": [],
   "source": [
    "import sys \n",
    "sys.path.append(\"C:/Users/houdouinpie/PycharmProjects/1 - Proper functioning probability v2/Code/Input/\")\n",
    "from information_structures import SimpleInformationStructure\n",
    "from properly_scaled_scenarios import SimpleProperlyScaledScenario"
   ]
  },
  {
   "cell_type": "markdown",
   "id": "1e2aea5c",
   "metadata": {},
   "source": [
    "# Parameters"
   ]
  },
  {
   "cell_type": "code",
   "execution_count": 2,
   "id": "af1043ec",
   "metadata": {},
   "outputs": [],
   "source": [
    "# Simple information structure\n",
    "dimension                             = 5\n",
    "information_structure_bound           = 1\n",
    "\n",
    "# Properly scaled scenarios\n",
    "properly_scaled_scenarios_max_L2_norm = 2"
   ]
  },
  {
   "cell_type": "code",
   "execution_count": 3,
   "id": "1109f2ed",
   "metadata": {},
   "outputs": [],
   "source": [
    "simple_information_structure = SimpleInformationStructure(dimension, information_structure_bound)"
   ]
  },
  {
   "cell_type": "markdown",
   "id": "1b2294fc",
   "metadata": {},
   "source": [
    "# 1 - Simple properly scaled scenario"
   ]
  },
  {
   "cell_type": "code",
   "execution_count": 4,
   "id": "f57bbb76",
   "metadata": {},
   "outputs": [
    {
     "name": "stdout",
     "output_type": "stream",
     "text": [
      "The empirical probability of drawing a properly scaled scenario is : 0.6954999999999397\n"
     ]
    }
   ],
   "source": [
    "simple_properly_scaled_scenario = SimpleProperlyScaledScenario(properly_scaled_scenarios_max_L2_norm)\n",
    "N, percentage_properly_scaled   = 10000, 0\n",
    "for _ in range(N):\n",
    "    scenario                    = simple_information_structure   .draw_scenario  ()\n",
    "    properly_scaled_scenario    = simple_properly_scaled_scenario.properly_scaled(scenario)\n",
    "    percentage_properly_scaled  = percentage_properly_scaled + properly_scaled_scenario / N\n",
    "    \n",
    "print(\"The empirical probability of drawing a properly scaled scenario is : {}\".format(percentage_properly_scaled))"
   ]
  },
  {
   "cell_type": "code",
   "execution_count": null,
   "id": "1f5c5f91",
   "metadata": {},
   "outputs": [],
   "source": []
  }
 ],
 "metadata": {
  "kernelspec": {
   "display_name": "Python 3 (ipykernel)",
   "language": "python",
   "name": "python3"
  },
  "language_info": {
   "codemirror_mode": {
    "name": "ipython",
    "version": 3
   },
   "file_extension": ".py",
   "mimetype": "text/x-python",
   "name": "python",
   "nbconvert_exporter": "python",
   "pygments_lexer": "ipython3",
   "version": "3.9.7"
  }
 },
 "nbformat": 4,
 "nbformat_minor": 5
}
